{
  "nbformat": 4,
  "nbformat_minor": 0,
  "metadata": {
    "colab": {
      "provenance": [],
      "collapsed_sections": [],
      "authorship_tag": "ABX9TyPUxDLTT2E/JPcDLlO4n2yw",
      "include_colab_link": true
    },
    "kernelspec": {
      "name": "python3",
      "display_name": "Python 3"
    },
    "language_info": {
      "name": "python"
    }
  },
  "cells": [
    {
      "cell_type": "markdown",
      "metadata": {
        "id": "view-in-github",
        "colab_type": "text"
      },
      "source": [
        "<a href=\"https://colab.research.google.com/github/Muhammadrafy06/python/blob/main/esercitazione_1.ipynb\" target=\"_parent\"><img src=\"https://colab.research.google.com/assets/colab-badge.svg\" alt=\"Open In Colab\"/></a>"
      ]
    },
    {
      "cell_type": "markdown",
      "source": [
        "questo notebook contiene informazioni fondamentali per lavorare con le liste"
      ],
      "metadata": {
        "id": "Q2Wqje8kDNpy"
      }
    },
    {
      "cell_type": "markdown",
      "source": [
        "definizione di lista:\n",
        "una struttura di dati dinamica utilizzata per moemorizzare dati in non permanente(salvataggio nella ram)\n",
        "dinamico significa che la dimensione della lista non deve essere fissata a priori\n",
        "non permanente: i dati utilizzati nella lista vengono cancellati quando si chiude il notebook"
      ],
      "metadata": {
        "id": "L4cguXOnDcz5"
      }
    },
    {
      "cell_type": "markdown",
      "source": [
        "1. inizializzazione di una lista"
      ],
      "metadata": {
        "id": "Jk5pZlneE_RL"
      }
    },
    {
      "cell_type": "markdown",
      "source": [
        "2. inserimento di elementi"
      ],
      "metadata": {
        "id": "FYEECszTFFDD"
      }
    },
    {
      "cell_type": "markdown",
      "source": [
        "visualizzazione della lista"
      ],
      "metadata": {
        "id": "KIkLoIdzFHyR"
      }
    },
    {
      "cell_type": "markdown",
      "source": [
        "rimozione di elementi della lista"
      ],
      "metadata": {
        "id": "p1jlVlpSFMIf"
      }
    },
    {
      "cell_type": "markdown",
      "source": [
        "aggiunta elemnto della lista"
      ],
      "metadata": {
        "id": "flq-f34EFUbi"
      }
    },
    {
      "cell_type": "markdown",
      "source": [
        "visualizzazione di uno o più elemneti in una lista "
      ],
      "metadata": {
        "id": "Vc1pNYUtFWY7"
      }
    },
    {
      "cell_type": "markdown",
      "source": [
        "trovare minimo e massimo"
      ],
      "metadata": {
        "id": "fm9XPh0LFrvQ"
      }
    },
    {
      "cell_type": "markdown",
      "source": [
        "effetturare operazione sugli elemnti di una lsita "
      ],
      "metadata": {
        "id": "KIdlrXLZFtd_"
      }
    },
    {
      "cell_type": "markdown",
      "source": [
        "ordinare gli elementi di una lista(crescente descresente)"
      ],
      "metadata": {
        "id": "ykMMCvi0F3uM"
      }
    },
    {
      "cell_type": "code",
      "source": [
        "#1\n",
        "lista = [1,2,3,4,5,6,7,8,9]\n",
        "\n",
        "#2\n",
        "lista.append(10)\n",
        "lista.extend([11,12,13]) #aggiunge 3 elementi in fondo alla lista\n",
        "lista.insert(5,20) #aggiunge il 20 all index 5\n",
        "\n",
        "#3\n",
        "lista.remove(10) #rimuove la prima occorrenza(istanza)\n",
        "lista.pop(10) #rimuve l elemento nella posizione 10\n",
        "del lista[10] #rimuove l elemento nella posizione 10\n",
        "\n",
        "#6\n",
        "print(lista[5]) #visualizza l'elemento in posizione 5\n",
        "print(lista[4:8]) #slicing visualizza gli elemnti dalla poszione 4 a lla posizione 7, pero non prende l ultimo elemento \n",
        "print(lista[4:8:2])\n",
        "print(lista[4:]) #visualizza gli elementi dal 4 fino alla fine\n",
        "print(::4)#èrende tutti i numeri a 4 a 4\n",
        "\n",
        "from statistics import mean\n",
        "\n",
        "lista.min()\n",
        "lista.max()\n",
        "\n",
        "lista.sort()\n",
        "\n",
        "mean(lista)\n",
        "\n",
        "#contorllo elementi di una lista\n",
        "9 in lista #restituisce true e false"
      ],
      "metadata": {
        "id": "EplcdhcyGRoK"
      },
      "execution_count": null,
      "outputs": []
    },
    {
      "cell_type": "code",
      "execution_count": null,
      "metadata": {
        "id": "b4MBIKJ0DLMD"
      },
      "outputs": [],
      "source": []
    }
  ]
}