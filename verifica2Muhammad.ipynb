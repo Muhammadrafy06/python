{
  "nbformat": 4,
  "nbformat_minor": 0,
  "metadata": {
    "colab": {
      "provenance": [],
      "collapsed_sections": [],
      "include_colab_link": true
    },
    "kernelspec": {
      "name": "python3",
      "display_name": "Python 3"
    },
    "language_info": {
      "name": "python"
    }
  },
  "cells": [
    {
      "cell_type": "markdown",
      "metadata": {
        "id": "view-in-github",
        "colab_type": "text"
      },
      "source": [
        "<a href=\"https://colab.research.google.com/github/Muhammadrafy06/python/blob/main/verifica2Muhammad.ipynb\" target=\"_parent\"><img src=\"https://colab.research.google.com/assets/colab-badge.svg\" alt=\"Open In Colab\"/></a>"
      ]
    },
    {
      "cell_type": "code",
      "execution_count": null,
      "metadata": {
        "colab": {
          "base_uri": "https://localhost:8080/"
        },
        "id": "qRCCVkHaZpDa",
        "outputId": "5f166acc-0f91-422c-cff5-aa807ecdbbe8"
      },
      "outputs": [
        {
          "output_type": "stream",
          "name": "stdout",
          "text": [
            "['Brescia', 'Como', 'Cremona', 'Lecco', 'Lodi', 'Mantova', 'Milano', 'Monza e della Brianza', 'Pavia', 'Sondrio', 'Varese', 'Bergamo']\n"
          ]
        }
      ],
      "source": [
        "# esercizio 1\n",
        "#0\n",
        "provincieLombardiaDis = [ \"Brescia\",\"Como\",\"Cremona\", \"Lecco\", \"Lodi\", \"Mantova\", \"Milano\", \"Monza e della Brianza\", \"Pavia\", \"Sondrio\", \"Varese\",\"Bergamo\",]\n",
        "print(provincieLombardiaDis)\n"
      ]
    },
    {
      "cell_type": "code",
      "source": [
        "#1\n",
        "provincieLombardiaOrd = sorted(provincieLombardiaDis)\n",
        "print(provincieLombardiaOrd)"
      ],
      "metadata": {
        "colab": {
          "base_uri": "https://localhost:8080/"
        },
        "id": "jnNne4OEapVJ",
        "outputId": "1e38605e-8bf7-4903-e766-d9439e8114a6"
      },
      "execution_count": null,
      "outputs": [
        {
          "output_type": "stream",
          "name": "stdout",
          "text": [
            "['Bergamo', 'Brescia', 'Como', 'Cremona', 'Lecco', 'Lodi', 'Mantova', 'Milano', 'Monza e della Brianza', 'Pavia', 'Sondrio', 'Varese']\n"
          ]
        }
      ]
    },
    {
      "cell_type": "code",
      "source": [
        "#2\n",
        "print(provincieLombardiaOrd[9:12])"
      ],
      "metadata": {
        "colab": {
          "base_uri": "https://localhost:8080/"
        },
        "id": "GjQVecEcbKEI",
        "outputId": "7030102a-912f-4bb8-ab61-ff6c1f8a2d05"
      },
      "execution_count": null,
      "outputs": [
        {
          "output_type": "stream",
          "name": "stdout",
          "text": [
            "['Pavia', 'Sondrio', 'Varese']\n"
          ]
        }
      ]
    },
    {
      "cell_type": "code",
      "source": [
        "#3\n",
        "provinciaMilano = [provincieLombardiaOrd.index(\"Milano\")]\n",
        "print(provinciaMilano)"
      ],
      "metadata": {
        "colab": {
          "base_uri": "https://localhost:8080/"
        },
        "id": "ISbs5-iKcMrm",
        "outputId": "0aa78baa-7094-46bf-f5eb-d486e64efcfd"
      },
      "execution_count": null,
      "outputs": [
        {
          "output_type": "stream",
          "name": "stdout",
          "text": [
            "[7]\n"
          ]
        }
      ]
    },
    {
      "cell_type": "code",
      "source": [
        "#4\n",
        "import random\n",
        "numCasuale = random.randint(0,len(provincieLombardiaOrd) - 1)\n",
        "\n",
        "print(provincieLombardiaOrd[numCasuale])"
      ],
      "metadata": {
        "colab": {
          "base_uri": "https://localhost:8080/"
        },
        "id": "NTT_ytRHceoj",
        "outputId": "bda19f0a-c482-4714-de45-bd3991453039"
      },
      "execution_count": null,
      "outputs": [
        {
          "output_type": "stream",
          "name": "stdout",
          "text": [
            "Bergamo\n"
          ]
        }
      ]
    },
    {
      "cell_type": "code",
      "source": [
        "#5\n",
        "import random\n",
        "\n",
        "cas1 = random.randint(0,len(provincieLombardiaOrd) - 1)\n",
        "cas2 = random.randint(0,len(provincieLombardiaOrd) - 1)\n",
        "cas3 = random.randint(0,len(provincieLombardiaOrd) - 1)\n",
        "while cas1 == cas2 or cas1 == cas3 or cas2 == cas3:\n",
        "      cas1 = random.randint(0,len(provincieLombardiaOrd) - 1)\n",
        "      cas2 = random.randint(0,len(provincieLombardiaOrd) - 1)\n",
        "      cas3 = random.randint(0,len(provincieLombardiaOrd) - 1)\n",
        "\n",
        "\n",
        "print(provincieLombardiaOrd[cas1], provincieLombardiaOrd[cas2], provincieLombardiaOrd[cas3])"
      ],
      "metadata": {
        "colab": {
          "base_uri": "https://localhost:8080/"
        },
        "id": "jm9Bt4oIdQxc",
        "outputId": "4b0fc87a-88b5-4b7a-d264-e7fb9d17a2f7"
      },
      "execution_count": null,
      "outputs": [
        {
          "output_type": "stream",
          "name": "stdout",
          "text": [
            "Bergamo Varese Milano\n"
          ]
        }
      ]
    },
    {
      "cell_type": "code",
      "source": [
        "#6  \n",
        "iReplac = provincieLombardiaOrd.index(\"Monza e della Brianza\")\n",
        "provincieLombardiaOrd = provincieLombardiaOrd[:iReplac]+[\"Monza\"]+provincieLombardiaOrd[iReplac+1:]\n",
        "\n",
        "iMonza = provincieLombardiaOrd.index(\"Monza\")\n",
        "provincieLombardiaOrd.insert(iMonza + 1, \"Brianza\")\n",
        "  \n",
        "# print list\n",
        "print(provincieLombardiaOrd)\n"
      ],
      "metadata": {
        "colab": {
          "base_uri": "https://localhost:8080/"
        },
        "id": "8eZ1nhlUe5wx",
        "outputId": "72af4cdd-7fe7-4e0e-f167-40a35fe751f7"
      },
      "execution_count": null,
      "outputs": [
        {
          "output_type": "stream",
          "name": "stdout",
          "text": [
            "['Bergamo', 'Brescia', 'Como', 'Cremona', 'Lecco', 'Lodi', 'Mantova', 'Milano', 'Monza', 'Brianza', 'Pavia', 'Sondrio', 'Varese']\n"
          ]
        }
      ]
    },
    {
      "cell_type": "code",
      "source": [
        "#esercizio 2\n",
        "\n",
        "#1\n",
        "multiplicinq=[] \n",
        "for i in range(1, 501): \n",
        "    if i%5==0: \n",
        "        multiplicinq.append(i) \n",
        "print(multiplicinq)"
      ],
      "metadata": {
        "colab": {
          "base_uri": "https://localhost:8080/"
        },
        "id": "33VFjwzskr9P",
        "outputId": "8c4c6907-e495-44c0-e032-3b2340d2ebeb"
      },
      "execution_count": null,
      "outputs": [
        {
          "output_type": "stream",
          "name": "stdout",
          "text": [
            "[5, 10, 15, 20, 25, 30, 35, 40, 45, 50, 55, 60, 65, 70, 75, 80, 85, 90, 95, 100, 105, 110, 115, 120, 125, 130, 135, 140, 145, 150, 155, 160, 165, 170, 175, 180, 185, 190, 195, 200, 205, 210, 215, 220, 225, 230, 235, 240, 245, 250, 255, 260, 265, 270, 275, 280, 285, 290, 295, 300, 305, 310, 315, 320, 325, 330, 335, 340, 345, 350, 355, 360, 365, 370, 375, 380, 385, 390, 395, 400, 405, 410, 415, 420, 425, 430, 435, 440, 445, 450, 455, 460, 465, 470, 475, 480, 485, 490, 495, 500]\n"
          ]
        }
      ]
    },
    {
      "cell_type": "code",
      "source": [
        "#2\n",
        "multiplidieci = []\n",
        "for i in multiplicinq: \n",
        "    if i%10==0: \n",
        "        multiplidieci.append(i) \n",
        "print(multiplidieci)"
      ],
      "metadata": {
        "colab": {
          "base_uri": "https://localhost:8080/"
        },
        "id": "VEK_d1fqleh1",
        "outputId": "bc962ef8-8fe6-49d6-d203-f8e793b24458"
      },
      "execution_count": null,
      "outputs": [
        {
          "output_type": "stream",
          "name": "stdout",
          "text": [
            "[10, 20, 30, 40, 50, 60, 70, 80, 90, 100, 110, 120, 130, 140, 150, 160, 170, 180, 190, 200, 210, 220, 230, 240, 250, 260, 270, 280, 290, 300, 310, 320, 330, 340, 350, 360, 370, 380, 390, 400, 410, 420, 430, 440, 450, 460, 470, 480, 490, 500]\n"
          ]
        }
      ]
    },
    {
      "cell_type": "code",
      "source": [
        "#3\n",
        "numDaCanc = []\n",
        "for i in range(30,61):\n",
        "  numDaCanc.append(i)\n",
        "\n",
        "print(numDaCanc)\n",
        "\n",
        "for i in multiplidieci: \n",
        "    if numDaCanc[i] == multiplidieci[i]: \n",
        "        multiplidieci.pop(i) \n",
        "print(multiplidieci)\n",
        "\n",
        "\n"
      ],
      "metadata": {
        "colab": {
          "base_uri": "https://localhost:8080/"
        },
        "id": "s86itVQ5mNNi",
        "outputId": "5fad21fb-309f-494a-f6e5-fcd88a65ae39"
      },
      "execution_count": null,
      "outputs": [
        {
          "output_type": "stream",
          "name": "stdout",
          "text": [
            "[30, 31, 32, 33, 34, 35, 36, 37, 38, 39, 40, 41, 42, 43, 44, 45, 46, 47, 48, 49, 50, 51, 52, 53, 54, 55, 56, 57, 58, 59, 60]\n",
            "[10, 20, 30, 40, 50, 60, 70, 80, 90, 100, 110, 120, 130, 140, 150, 160, 170, 180, 190, 200, 210, 220, 230, 240, 250, 260, 270, 280, 290, 300, 310, 320, 330, 340, 350, 360, 370, 380, 390, 400, 410, 420, 430, 440, 450, 460, 470, 480, 490, 500]\n"
          ]
        }
      ]
    },
    {
      "cell_type": "code",
      "source": [
        "#4\n",
        "def cercaMeta(listaInput):\n",
        "    meta = float(len(listaInput))/2\n",
        "    if meta % 2 != 0:\n",
        "        return listaInput[int(meta - .5)]\n",
        "    else:\n",
        "        return (listaInput[int(meta)], listaInput[int(meta-1)])\n",
        "\n",
        "\n",
        "\n",
        "meta = cercaMeta(multiplidieci)\n",
        "\n",
        "\n",
        "\n",
        "numeriCentrali = multiplidieci.index(meta)\n",
        "numeriCentrali.insert(meta - 2)\n",
        "numeriCentrali.insert(meta - 1)\n",
        "numeriCentrali.insert(meta)\n",
        "numeriCentrali.insert(meta +1)\n",
        "numeriCentrali.insert(meta +2)\n",
        "\n",
        "\n",
        "  \n",
        "\n",
        "\n",
        "print(numeriCentrali)"
      ],
      "metadata": {
        "colab": {
          "base_uri": "https://localhost:8080/",
          "height": 235
        },
        "id": "JIufrTgjqP1s",
        "outputId": "d9ba4ff3-7066-468e-e8ba-4efe32377e36"
      },
      "execution_count": null,
      "outputs": [
        {
          "output_type": "error",
          "ename": "AttributeError",
          "evalue": "ignored",
          "traceback": [
            "\u001b[0;31m---------------------------------------------------------------------------\u001b[0m",
            "\u001b[0;31mAttributeError\u001b[0m                            Traceback (most recent call last)",
            "\u001b[0;32m<ipython-input-174-ea78d755e3c1>\u001b[0m in \u001b[0;36m<module>\u001b[0;34m\u001b[0m\n\u001b[1;32m     14\u001b[0m \u001b[0;34m\u001b[0m\u001b[0m\n\u001b[1;32m     15\u001b[0m \u001b[0mnumeriCentrali\u001b[0m \u001b[0;34m=\u001b[0m \u001b[0mmultiplidieci\u001b[0m\u001b[0;34m.\u001b[0m\u001b[0mindex\u001b[0m\u001b[0;34m(\u001b[0m\u001b[0mmeta\u001b[0m\u001b[0;34m)\u001b[0m\u001b[0;34m\u001b[0m\u001b[0;34m\u001b[0m\u001b[0m\n\u001b[0;32m---> 16\u001b[0;31m \u001b[0mnumeriCentrali\u001b[0m\u001b[0;34m.\u001b[0m\u001b[0minsert\u001b[0m\u001b[0;34m(\u001b[0m\u001b[0mmeta\u001b[0m \u001b[0;34m-\u001b[0m \u001b[0;36m2\u001b[0m\u001b[0;34m)\u001b[0m\u001b[0;34m\u001b[0m\u001b[0;34m\u001b[0m\u001b[0m\n\u001b[0m\u001b[1;32m     17\u001b[0m \u001b[0mnumeriCentrali\u001b[0m\u001b[0;34m.\u001b[0m\u001b[0minsert\u001b[0m\u001b[0;34m(\u001b[0m\u001b[0mmeta\u001b[0m \u001b[0;34m-\u001b[0m \u001b[0;36m1\u001b[0m\u001b[0;34m)\u001b[0m\u001b[0;34m\u001b[0m\u001b[0;34m\u001b[0m\u001b[0m\n\u001b[1;32m     18\u001b[0m \u001b[0mnumeriCentrali\u001b[0m\u001b[0;34m.\u001b[0m\u001b[0minsert\u001b[0m\u001b[0;34m(\u001b[0m\u001b[0mmeta\u001b[0m\u001b[0;34m)\u001b[0m\u001b[0;34m\u001b[0m\u001b[0;34m\u001b[0m\u001b[0m\n",
            "\u001b[0;31mAttributeError\u001b[0m: 'int' object has no attribute 'insert'"
          ]
        }
      ]
    },
    {
      "cell_type": "code",
      "source": [],
      "metadata": {
        "id": "HqZhTziGn6v5"
      },
      "execution_count": null,
      "outputs": []
    }
  ]
}