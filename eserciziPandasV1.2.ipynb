{
  "nbformat": 4,
  "nbformat_minor": 0,
  "metadata": {
    "colab": {
      "private_outputs": true,
      "provenance": [],
      "authorship_tag": "ABX9TyNcL0zC6d8nShDGye3Fl5R8",
      "include_colab_link": true
    },
    "kernelspec": {
      "name": "python3",
      "display_name": "Python 3"
    },
    "language_info": {
      "name": "python"
    },
    "accelerator": "GPU",
    "gpuClass": "standard"
  },
  "cells": [
    {
      "cell_type": "markdown",
      "metadata": {
        "id": "view-in-github",
        "colab_type": "text"
      },
      "source": [
        "<a href=\"https://colab.research.google.com/github/Muhammadrafy06/python/blob/main/eserciziPandasV1.2.ipynb\" target=\"_parent\"><img src=\"https://colab.research.google.com/assets/colab-badge.svg\" alt=\"Open In Colab\"/></a>"
      ]
    },
    {
      "cell_type": "code",
      "execution_count": null,
      "metadata": {
        "id": "3PRVXRdMjnxB"
      },
      "outputs": [],
      "source": [
        "import pandas as pd\n",
        "movies = pd.read_csv('https://gist.githubusercontent.com/tiangechen/b68782efa49a16edaf07dc2cdaa855ea/raw/0c794a9717f18b094eabab2cd6a6b9a226903577/movies.csv')"
      ]
    },
    {
      "cell_type": "code",
      "source": [
        "movies.tail(8)"
      ],
      "metadata": {
        "id": "NTmcf607kUJe"
      },
      "execution_count": null,
      "outputs": []
    },
    {
      "cell_type": "code",
      "source": [
        "movies[[\"Film\", \"Genre\"]]"
      ],
      "metadata": {
        "id": "AYo8d4Hqkiqk"
      },
      "execution_count": null,
      "outputs": []
    },
    {
      "cell_type": "code",
      "source": [
        "movies.iloc[20:30]\n",
        "#alternativa movies[20:30] o 31"
      ],
      "metadata": {
        "id": "yGs9Ovm8lwDd"
      },
      "execution_count": null,
      "outputs": []
    },
    {
      "cell_type": "code",
      "source": [
        "movies.iloc[[23,29,45]][[\"Film\", \"Year\"]]"
      ],
      "metadata": {
        "id": "D3c6K_p4l7Ds"
      },
      "execution_count": null,
      "outputs": []
    },
    {
      "cell_type": "code",
      "source": [
        "movies[movies[\"Genre\"] == \"Animation\"][\"Film\"]"
      ],
      "metadata": {
        "id": "5Z3J2iV1nX3m"
      },
      "execution_count": null,
      "outputs": []
    },
    {
      "cell_type": "code",
      "source": [
        "movies[(movies[\"Lead Studio\"] == \"Disney\") | (movies[\"Lead Studio\"] == \"20th Century Fox\")][\"Film\"]"
      ],
      "metadata": {
        "id": "sWqrWG40oOHe"
      },
      "execution_count": null,
      "outputs": []
    },
    {
      "cell_type": "code",
      "source": [
        "movies[(movies[\"Year\"] >= 2005) & movies[\"Year\"] <=2010][\"Film\"]"
      ],
      "metadata": {
        "id": "-4XCBelUo8aV"
      },
      "execution_count": null,
      "outputs": []
    },
    {
      "cell_type": "code",
      "source": [
        "movies[movies[\"Genre\"] == \"Drama\"][\"Audience score %\"].mean()"
      ],
      "metadata": {
        "id": "2HbWlTrApvXQ"
      },
      "execution_count": null,
      "outputs": []
    },
    {
      "cell_type": "code",
      "source": [
        "movies[\"Audience score %\"] -= movies[\"Audience score %\"] / 100 * 10\n",
        "print(movies[\"Audience score %\"])\n",
        "\n",
        "#alternative movies[\"Audience score %\"].subtract(10) questa se voglio sotrarre di 10(non centra con l esercizio :/)\n",
        "movies[\"Audience score %\"] = movies[\"Audience score %\"] /0.9"
      ],
      "metadata": {
        "id": "zGJ97DDiq1ic"
      },
      "execution_count": null,
      "outputs": []
    },
    {
      "cell_type": "code",
      "source": [
        "  #fila b\n",
        "import pandas as pd\n",
        "movies = pd.read_csv('https://gist.githubusercontent.com/tiangechen/b68782efa49a16edaf07dc2cdaa855ea/raw/0c794a9717f18b094eabab2cd6a6b9a226903577/movies.csv')"
      ],
      "metadata": {
        "id": "x_vRzwIetCTW"
      },
      "execution_count": null,
      "outputs": []
    },
    {
      "cell_type": "code",
      "source": [
        "movies.iloc[0:12]"
      ],
      "metadata": {
        "id": "tgjmo1g5CWQe"
      },
      "execution_count": null,
      "outputs": []
    },
    {
      "cell_type": "code",
      "source": [
        "#ricerca dei film che cominciano con una certa lettera\n",
        "movies[movies[\"Film\"].str.startswith(\"P\")]\n",
        "#ricerca dei film che finiscono con una certa lettera\n",
        "#movies[movies[\"Film\"].str.endswith(\"P\")]\n",
        "\n",
        "\n",
        "#visualizzare i nomi dei film in ordine alfabetico\n",
        "#movies.sort_values(by=[\"Film\"])\n",
        "#visualizzare i nomi dei film in ordine alfabetico al contrario\n",
        "#movies.sort_values(by=[\"Film\"], ascending = False)\n",
        "#visualizzare i nomi dei film in ordine alfabetico al contrario di piu liste\n",
        "movies.sort_values(by=[\"Film\", \"Genre\"], ascending = False)"
      ],
      "metadata": {
        "id": "MYGXCjpnBaGr"
      },
      "execution_count": null,
      "outputs": []
    },
    {
      "cell_type": "code",
      "source": [
        "movies[movies.columns[[3,4,5,6]]]"
      ],
      "metadata": {
        "id": "A8E1EB4YDI5R"
      },
      "execution_count": null,
      "outputs": []
    },
    {
      "cell_type": "code",
      "source": [
        "movies.iloc[10:30]"
      ],
      "metadata": {
        "id": "Cr-p-3ijDkaq"
      },
      "execution_count": null,
      "outputs": []
    },
    {
      "cell_type": "code",
      "source": [
        "movies.iloc[10:20][[\"Genre\", \"Lead Studio\"]]"
      ],
      "metadata": {
        "id": "RqjVQSkG4RXw"
      },
      "execution_count": null,
      "outputs": []
    },
    {
      "cell_type": "code",
      "source": [
        "movies[(movies[\"Film\"] == \"When in Rome\")]"
      ],
      "metadata": {
        "id": "3i7NtAYADt1i"
      },
      "execution_count": null,
      "outputs": []
    },
    {
      "cell_type": "code",
      "source": [
        "movies[movies[\"Film\"].str.contains(\"When in Rome\") | movies[\"Film\"].str.contains(\"Waitress\") | movies[\"Film\"].str.contains(\"WALL-E\")]"
      ],
      "metadata": {
        "id": "9442s20i6oap"
      },
      "execution_count": null,
      "outputs": []
    },
    {
      "cell_type": "code",
      "source": [
        "movies[(movies[\"Rotten Tomatoes %\"] >= 80) & movies[\"Rotten Tomatoes %\"] <=90][\"Film\"]"
      ],
      "metadata": {
        "id": "-a9hj0k6B2Rk"
      },
      "execution_count": null,
      "outputs": []
    },
    {
      "cell_type": "code",
      "source": [
        "movies[movies[\"Rotten Tomatoes %\"]].max()"
      ],
      "metadata": {
        "id": "D-V2jaWLU6gH"
      },
      "execution_count": null,
      "outputs": []
    },
    {
      "cell_type": "code",
      "source": [
        "movies[\"Rotten Tomatoes %\"] += movies[\"Rotten Tomatoes %\"] * 0.9\n",
        "print(movies[\"Rotten Tomatoes %\"])"
      ],
      "metadata": {
        "id": "X7ZK1lOpVnm5"
      },
      "execution_count": null,
      "outputs": []
    }
  ]
}