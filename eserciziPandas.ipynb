{
  "nbformat": 4,
  "nbformat_minor": 0,
  "metadata": {
    "colab": {
      "private_outputs": true,
      "provenance": [],
      "authorship_tag": "ABX9TyPo6SRoUZOIi4Y1Zh5Exc+Y",
      "include_colab_link": true
    },
    "kernelspec": {
      "name": "python3",
      "display_name": "Python 3"
    },
    "language_info": {
      "name": "python"
    },
    "accelerator": "GPU",
    "gpuClass": "standard"
  },
  "cells": [
    {
      "cell_type": "markdown",
      "metadata": {
        "id": "view-in-github",
        "colab_type": "text"
      },
      "source": [
        "<a href=\"https://colab.research.google.com/github/Muhammadrafy06/python/blob/main/eserciziPandas.ipynb\" target=\"_parent\"><img src=\"https://colab.research.google.com/assets/colab-badge.svg\" alt=\"Open In Colab\"/></a>"
      ]
    },
    {
      "cell_type": "code",
      "execution_count": null,
      "metadata": {
        "id": "3PRVXRdMjnxB"
      },
      "outputs": [],
      "source": [
        "import pandas as pd\n",
        "movies = pd.read_csv('https://gist.githubusercontent.com/tiangechen/b68782efa49a16edaf07dc2cdaa855ea/raw/0c794a9717f18b094eabab2cd6a6b9a226903577/movies.csv')"
      ]
    },
    {
      "cell_type": "code",
      "source": [
        "movies.tail(8)"
      ],
      "metadata": {
        "id": "NTmcf607kUJe"
      },
      "execution_count": null,
      "outputs": []
    },
    {
      "cell_type": "code",
      "source": [
        "movies[[\"Film\", \"Genre\"]]"
      ],
      "metadata": {
        "id": "AYo8d4Hqkiqk"
      },
      "execution_count": null,
      "outputs": []
    },
    {
      "cell_type": "code",
      "source": [
        "movies.iloc[20:30]"
      ],
      "metadata": {
        "id": "yGs9Ovm8lwDd"
      },
      "execution_count": null,
      "outputs": []
    },
    {
      "cell_type": "code",
      "source": [
        "movies.iloc[[23,29,45]][[\"Film\", \"Year\"]]"
      ],
      "metadata": {
        "id": "D3c6K_p4l7Ds"
      },
      "execution_count": null,
      "outputs": []
    },
    {
      "cell_type": "code",
      "source": [
        "movies[movies[\"Genre\"] == \"Animation\"][\"Film\"]"
      ],
      "metadata": {
        "id": "5Z3J2iV1nX3m"
      },
      "execution_count": null,
      "outputs": []
    },
    {
      "cell_type": "code",
      "source": [
        "movies[(movies[\"Lead Studio\"] == \"Disney\") | (movies[\"Lead Studio\"] == \"20th Century Fox\")][\"Film\"]"
      ],
      "metadata": {
        "id": "sWqrWG40oOHe"
      },
      "execution_count": null,
      "outputs": []
    },
    {
      "cell_type": "code",
      "source": [
        "movies[(movies[\"Year\"] >= 2005) & movies[\"Year\"] <=2010][\"Film\"]"
      ],
      "metadata": {
        "id": "-4XCBelUo8aV"
      },
      "execution_count": null,
      "outputs": []
    },
    {
      "cell_type": "code",
      "source": [
        "movies[movies[\"Genre\"] == \"Drama\"][\"Audience score %\"].mean()"
      ],
      "metadata": {
        "id": "2HbWlTrApvXQ"
      },
      "execution_count": null,
      "outputs": []
    },
    {
      "cell_type": "code",
      "source": [
        "movies[\"Audience score %\"] -= movies[\"Audience score %\"] / 100 * 10\n",
        "print(movies[\"Audience score %\"])"
      ],
      "metadata": {
        "id": "zGJ97DDiq1ic"
      },
      "execution_count": null,
      "outputs": []
    },
    {
      "cell_type": "code",
      "source": [
        "  "
      ],
      "metadata": {
        "id": "x_vRzwIetCTW"
      },
      "execution_count": null,
      "outputs": []
    }
  ]
}