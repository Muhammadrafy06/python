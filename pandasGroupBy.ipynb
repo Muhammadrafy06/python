{
  "nbformat": 4,
  "nbformat_minor": 0,
  "metadata": {
    "colab": {
      "private_outputs": true,
      "provenance": [],
      "authorship_tag": "ABX9TyMcy/DaeOMXZuGl0n64OLwj",
      "include_colab_link": true
    },
    "kernelspec": {
      "name": "python3",
      "display_name": "Python 3"
    },
    "language_info": {
      "name": "python"
    }
  },
  "cells": [
    {
      "cell_type": "markdown",
      "metadata": {
        "id": "view-in-github",
        "colab_type": "text"
      },
      "source": [
        "<a href=\"https://colab.research.google.com/github/Muhammadrafy06/python/blob/main/pandasGroupBy.ipynb\" target=\"_parent\"><img src=\"https://colab.research.google.com/assets/colab-badge.svg\" alt=\"Open In Colab\"/></a>"
      ]
    },
    {
      "cell_type": "code",
      "execution_count": null,
      "metadata": {
        "id": "_sQ9vrrd68SN"
      },
      "outputs": [],
      "source": [
        "import pandas as pd\n",
        "from google.colab import drive\n",
        "drive.mount(\"/content/drive\")"
      ]
    },
    {
      "cell_type": "code",
      "source": [
        "#link consegne  https://classroom.google.com/c/NTQ3OTY0NzAwODUz/a/NTc0MDA1NDI1MTkz/details\n",
        "df2 = pd.read_csv(\"https://raw.githubusercontent.com/wtitze/3E/main/2010.csv\",sep=\";\")\n",
        "df2"
      ],
      "metadata": {
        "id": "M50Qh_X_CUk6"
      },
      "execution_count": null,
      "outputs": []
    },
    {
      "cell_type": "code",
      "source": [
        "dfPerLingua = df2.groupby(\"Language\").count()[\"Title\"]\n",
        "dfPerLingua.sort_values(ascending=False)"
      ],
      "metadata": {
        "id": "ov-DvjF3DNPQ"
      },
      "execution_count": null,
      "outputs": []
    },
    {
      "cell_type": "code",
      "source": [
        "dfPerNazione = df2.groupby(\"Country\").count()[\"Title\"]\n",
        "dfPerNazione"
      ],
      "metadata": {
        "id": "gJFPT3l3Ddvj"
      },
      "execution_count": null,
      "outputs": []
    },
    {
      "cell_type": "code",
      "source": [
        "dfbudgetNazione = df2.groupby(\"Country\").sum().sort_values(by=[\"Budget\"],ascending=False)[[\"Budget\"]]\n"
      ],
      "metadata": {
        "id": "lRK4maf0FSF3"
      },
      "execution_count": null,
      "outputs": []
    },
    {
      "cell_type": "code",
      "source": [
        "dfGroup = df2.groupby(\"Country\").sum().sort_values(by=[\"Budget\"],ascending=False)[[\"Budget\"]]\n",
        "dfGroup"
      ],
      "metadata": {
        "id": "4jPpqXeSFbrv"
      },
      "execution_count": null,
      "outputs": []
    },
    {
      "cell_type": "code",
      "source": [
        "dfGroup[dfGroup[\"Budget\"] == dfGroup[\"Budget\"].max()]"
      ],
      "metadata": {
        "id": "xmiUSDO3Kt3g"
      },
      "execution_count": null,
      "outputs": []
    },
    {
      "cell_type": "code",
      "source": [
        "df2.groupby(\"Country\")[\"Budget\"].mean()"
      ],
      "metadata": {
        "id": "pu8pF5RuLfjo"
      },
      "execution_count": null,
      "outputs": []
    },
    {
      "cell_type": "code",
      "source": [
        "\n",
        "mediaPerNazione = df2.groupby(\"Country\")[[\"Budget\"]].mean()\n",
        "mediaPerNazione"
      ],
      "metadata": {
        "id": "LvgUs3WrNl-W"
      },
      "execution_count": null,
      "outputs": []
    },
    {
      "cell_type": "code",
      "source": [
        "mediaPerFilm = df2.Budget.mean()\n",
        "mediaPerNazione[mediaPerNazione.Budget<mediaPerFilm]"
      ],
      "metadata": {
        "id": "mgoz8QwxOG5G"
      },
      "execution_count": null,
      "outputs": []
    },
    {
      "cell_type": "code",
      "source": [
        "dfRegista = df2.groupby(\"Director\").count()[\"Title\"]\n",
        "dfRegista"
      ],
      "metadata": {
        "id": "2UI1i0jaMU_a"
      },
      "execution_count": null,
      "outputs": []
    },
    {
      "cell_type": "code",
      "source": [
        "dfGroup[dfGroup[\"Title\"] == dfGroup[\"Title\"].max()]"
      ],
      "metadata": {
        "id": "PDMSF23jPolt"
      },
      "execution_count": null,
      "outputs": []
    },
    {
      "cell_type": "code",
      "source": [
        "dfGroup = df.groupby(\"Genres\").count()[[\"Title\"]]\n",
        "dfGroup"
      ],
      "metadata": {
        "id": "nfoFqQHOQwmQ"
      },
      "execution_count": null,
      "outputs": []
    }
  ]
}